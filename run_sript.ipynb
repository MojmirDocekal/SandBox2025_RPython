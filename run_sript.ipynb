{
  "cells": [
    {
      "cell_type": "markdown",
      "metadata": {},
      "source": [
        "# Run an R script from a notebook cell\n",
        "This notebook will run an R script file (e.g., `bayes_covid_basic.R`) and display its output.\n",
        "\n",
        "Make sure to upload the script file to the same directory as this notebook."
      ]
    },
    {
      "cell_type": "code",
      "execution_count": null,
      "metadata": {},
      "outputs": [],
      "source": [
        "# Specify your R script filename here\n",
        "script_filename = 'bayes_covid_test.R'  # Change to your script name if needed\n",
        "\n",
        "import subprocess\n",
        "import sys\n",
        "\n",
        "try:\n",
        "    result = subprocess.run(['Rscript', script_filename], capture_output=True, text=True, check=True)\n",
        "    print('Output from', script_filename)\n",
        "    print(result.stdout)\n",
        "except subprocess.CalledProcessError as e:\n",
        "    print('Error running the R script:')\n",
        "    print(e.stdout)\n",
        "    print(e.stderr)\n",
        "except FileNotFoundError:\n",
        "    print('Rscript executable not found. Make sure R is installed in this Binder environment.')"
      ]
    }
  ],
  "metadata": {
    "kernelspec": {
      "display_name": "Python 3",
      "language": "python",
      "name": "python3"
    },
    "language_info": {
      "name": "python",
      "version": "3.x"
    }
  },
  "nbformat": 4,
  "nbformat_minor": 4
}
